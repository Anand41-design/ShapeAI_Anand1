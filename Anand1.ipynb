{
  "nbformat": 4,
  "nbformat_minor": 0,
  "metadata": {
    "colab": {
      "name": "Anand1.ipynb",
      "provenance": [],
      "collapsed_sections": []
    },
    "kernelspec": {
      "name": "python3",
      "display_name": "Python 3"
    },
    "language_info": {
      "name": "python"
    }
  },
  "cells": [
    {
      "cell_type": "code",
      "metadata": {
        "colab": {
          "base_uri": "https://localhost:8080/"
        },
        "id": "nm0wygm5rWAj",
        "outputId": "1b0814a7-45e0-42c8-88c6-e36474eb3171"
      },
      "source": [
        "from keras.datasets import mnist\n",
        "data = mnist.load_data()\n"
      ],
      "execution_count": 1,
      "outputs": [
        {
          "output_type": "stream",
          "text": [
            "Downloading data from https://storage.googleapis.com/tensorflow/tf-keras-datasets/mnist.npz\n",
            "11493376/11490434 [==============================] - 0s 0us/step\n"
          ],
          "name": "stdout"
        }
      ]
    },
    {
      "cell_type": "code",
      "metadata": {
        "id": "XfW7hYNyrvs3"
      },
      "source": [
        "((X_train, y_train), (X_test, y_test)) = data"
      ],
      "execution_count": 3,
      "outputs": []
    },
    {
      "cell_type": "code",
      "metadata": {
        "id": "scw_A5teryFt"
      },
      "source": [
        "X_train = X_train.reshape((X_train.shape[0], 28*28)).astype('float32')\n",
        "X_test = X_test.reshape((X_test.shape[0], 28*28)).astype('float32')"
      ],
      "execution_count": 6,
      "outputs": []
    },
    {
      "cell_type": "code",
      "metadata": {
        "id": "5PPj-Ad_sQY4"
      },
      "source": [
        "X_train = X_train / 255\n",
        "X_test = X_test / 255"
      ],
      "execution_count": 9,
      "outputs": []
    },
    {
      "cell_type": "code",
      "metadata": {
        "colab": {
          "base_uri": "https://localhost:8080/"
        },
        "id": "KYWwnZnNsXej",
        "outputId": "935851bb-2c35-4b7e-f24d-219474362b0f"
      },
      "source": [
        "from keras.utils import np_utils\n",
        "\n",
        "print(y_test.shape)\n",
        "\n",
        "y_train = np_utils.to_categorical(y_train)\n",
        "y_test = np_utils.to_categorical(y_test)\n",
        "\n",
        "num_classes = y_test.shape[1]\n",
        "print(y_test.shape)"
      ],
      "execution_count": 10,
      "outputs": [
        {
          "output_type": "stream",
          "text": [
            "(10000,)\n",
            "(10000, 10)\n"
          ],
          "name": "stdout"
        }
      ]
    },
    {
      "cell_type": "code",
      "metadata": {
        "id": "snuRHf1gsaW_"
      },
      "source": [
        "from keras.models import Sequential\n",
        "from keras.layers import Dense"
      ],
      "execution_count": 11,
      "outputs": []
    },
    {
      "cell_type": "code",
      "metadata": {
        "id": "VYUpusGLsdMG"
      },
      "source": [
        "model = Sequential()\n",
        "model.add(Dense(32, input_dim = 28*28, activation='relu'))\n",
        "model.add(Dense(64, activation='relu'))\n",
        "model.add(Dense(10, activation='softmax'))"
      ],
      "execution_count": 12,
      "outputs": []
    },
    {
      "cell_type": "code",
      "metadata": {
        "id": "3zC3QLaBshob"
      },
      "source": [
        "model.compile(loss='categorical_crossentropy', optimizer='adam', metrics=['accuracy'])"
      ],
      "execution_count": 13,
      "outputs": []
    },
    {
      "cell_type": "code",
      "metadata": {
        "colab": {
          "base_uri": "https://localhost:8080/"
        },
        "id": "7NFZl3k0ssdr",
        "outputId": "73ffdbc6-5bd3-4e91-8246-11be429d0e18"
      },
      "source": [
        "model.summary()"
      ],
      "execution_count": 14,
      "outputs": [
        {
          "output_type": "stream",
          "text": [
            "Model: \"sequential\"\n",
            "_________________________________________________________________\n",
            "Layer (type)                 Output Shape              Param #   \n",
            "=================================================================\n",
            "dense (Dense)                (None, 32)                25120     \n",
            "_________________________________________________________________\n",
            "dense_1 (Dense)              (None, 64)                2112      \n",
            "_________________________________________________________________\n",
            "dense_2 (Dense)              (None, 10)                650       \n",
            "=================================================================\n",
            "Total params: 27,882\n",
            "Trainable params: 27,882\n",
            "Non-trainable params: 0\n",
            "_________________________________________________________________\n"
          ],
          "name": "stdout"
        }
      ]
    },
    {
      "cell_type": "code",
      "metadata": {
        "colab": {
          "base_uri": "https://localhost:8080/"
        },
        "id": "Gu9wl-RVsvNr",
        "outputId": "3846948c-bb70-4e76-b694-6c17881c16ed"
      },
      "source": [
        "model.fit(X_train, y_train, epochs=10, batch_size=100)"
      ],
      "execution_count": 16,
      "outputs": [
        {
          "output_type": "stream",
          "text": [
            "Epoch 1/10\n",
            "600/600 [==============================] - 1s 2ms/step - loss: 2.3015 - accuracy: 0.1121\n",
            "Epoch 2/10\n",
            "600/600 [==============================] - 1s 2ms/step - loss: 2.3013 - accuracy: 0.1124\n",
            "Epoch 3/10\n",
            "600/600 [==============================] - 1s 2ms/step - loss: 2.3013 - accuracy: 0.1124\n",
            "Epoch 4/10\n",
            "600/600 [==============================] - 1s 2ms/step - loss: 2.3012 - accuracy: 0.1124\n",
            "Epoch 5/10\n",
            "600/600 [==============================] - 1s 2ms/step - loss: 2.3008 - accuracy: 0.1124\n",
            "Epoch 6/10\n",
            "600/600 [==============================] - 1s 2ms/step - loss: 2.2993 - accuracy: 0.1124\n",
            "Epoch 7/10\n",
            "600/600 [==============================] - 1s 2ms/step - loss: 2.2916 - accuracy: 0.1245\n",
            "Epoch 8/10\n",
            "600/600 [==============================] - 1s 2ms/step - loss: 2.2608 - accuracy: 0.1719\n",
            "Epoch 9/10\n",
            "600/600 [==============================] - 1s 2ms/step - loss: 2.1998 - accuracy: 0.2006\n",
            "Epoch 10/10\n",
            "600/600 [==============================] - 1s 2ms/step - loss: 2.1279 - accuracy: 0.2171\n"
          ],
          "name": "stdout"
        },
        {
          "output_type": "execute_result",
          "data": {
            "text/plain": [
              "<tensorflow.python.keras.callbacks.History at 0x7fed44acb550>"
            ]
          },
          "metadata": {
            "tags": []
          },
          "execution_count": 16
        }
      ]
    },
    {
      "cell_type": "code",
      "metadata": {
        "colab": {
          "base_uri": "https://localhost:8080/"
        },
        "id": "N6cKAIjOs4mj",
        "outputId": "1a22caf8-9542-4113-9442-f5766116b35a"
      },
      "source": [
        "scores = model.evaluate(X_test, y_test)\n",
        "print(scores)"
      ],
      "execution_count": 18,
      "outputs": [
        {
          "output_type": "stream",
          "text": [
            "313/313 [==============================] - 0s 1ms/step - loss: 2.0859 - accuracy: 0.2324\n",
            "[2.085928440093994, 0.23240000009536743]\n"
          ],
          "name": "stdout"
        }
      ]
    }
  ]
}